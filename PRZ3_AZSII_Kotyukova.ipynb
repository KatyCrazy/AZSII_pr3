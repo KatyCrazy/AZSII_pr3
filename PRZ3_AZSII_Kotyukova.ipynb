{
  "nbformat": 4,
  "nbformat_minor": 0,
  "metadata": {
    "colab": {
      "provenance": [],
      "gpuType": "T4"
    },
    "kernelspec": {
      "name": "python3",
      "display_name": "Python 3"
    },
    "language_info": {
      "name": "python"
    },
    "accelerator": "GPU"
  },
  "cells": [
    {
      "cell_type": "markdown",
      "source": [
        "АЗСИИ\n",
        "\n",
        "ББМО-01-22\n",
        "\n",
        "Практика №3\n",
        "\n",
        "Котюкова Виктория Олеговна, Вариант №11"
      ],
      "metadata": {
        "id": "pnUoJAGzN3U6"
      }
    },
    {
      "cell_type": "markdown",
      "source": [
        "Выполним импорт необходимых библиотек."
      ],
      "metadata": {
        "id": "RESHreg5OK20"
      }
    },
    {
      "cell_type": "code",
      "source": [
        "!pip install art\n",
        "!pip install adversarial-robustness-toolbox"
      ],
      "metadata": {
        "colab": {
          "base_uri": "https://localhost:8080/"
        },
        "id": "mkEyOg95Q194",
        "outputId": "b749c3e0-d5bd-410d-efde-2ebc4b96a105"
      },
      "execution_count": 1,
      "outputs": [
        {
          "output_type": "stream",
          "name": "stdout",
          "text": [
            "Collecting art\n",
            "  Downloading art-6.1-py3-none-any.whl (599 kB)\n",
            "\u001b[?25l     \u001b[90m━━━━━━━━━━━━━━━━━━━━━━━━━━━━━━━━━━━━━━━━\u001b[0m \u001b[32m0.0/599.8 kB\u001b[0m \u001b[31m?\u001b[0m eta \u001b[36m-:--:--\u001b[0m\r\u001b[2K     \u001b[91m━━━━━━━━━━━\u001b[0m\u001b[91m╸\u001b[0m\u001b[90m━━━━━━━━━━━━━━━━━━━━━━━━━━━━\u001b[0m \u001b[32m174.1/599.8 kB\u001b[0m \u001b[31m5.3 MB/s\u001b[0m eta \u001b[36m0:00:01\u001b[0m\r\u001b[2K     \u001b[91m━━━━━━━━━━━━━━━━━━━━━━━━━━━━━━━━━━━━━\u001b[0m\u001b[91m╸\u001b[0m\u001b[90m━━\u001b[0m \u001b[32m563.2/599.8 kB\u001b[0m \u001b[31m8.1 MB/s\u001b[0m eta \u001b[36m0:00:01\u001b[0m\r\u001b[2K     \u001b[90m━━━━━━━━━━━━━━━━━━━━━━━━━━━━━━━━━━━━━━━━\u001b[0m \u001b[32m599.8/599.8 kB\u001b[0m \u001b[31m7.4 MB/s\u001b[0m eta \u001b[36m0:00:00\u001b[0m\n",
            "\u001b[?25hInstalling collected packages: art\n",
            "Successfully installed art-6.1\n",
            "Collecting adversarial-robustness-toolbox\n",
            "  Downloading adversarial_robustness_toolbox-1.16.0-py3-none-any.whl (1.6 MB)\n",
            "\u001b[2K     \u001b[90m━━━━━━━━━━━━━━━━━━━━━━━━━━━━━━━━━━━━━━━━\u001b[0m \u001b[32m1.6/1.6 MB\u001b[0m \u001b[31m8.5 MB/s\u001b[0m eta \u001b[36m0:00:00\u001b[0m\n",
            "\u001b[?25hRequirement already satisfied: numpy>=1.18.0 in /usr/local/lib/python3.10/dist-packages (from adversarial-robustness-toolbox) (1.23.5)\n",
            "Requirement already satisfied: scipy>=1.4.1 in /usr/local/lib/python3.10/dist-packages (from adversarial-robustness-toolbox) (1.11.3)\n",
            "Collecting scikit-learn<1.2.0,>=0.22.2 (from adversarial-robustness-toolbox)\n",
            "  Downloading scikit_learn-1.1.3-cp310-cp310-manylinux_2_17_x86_64.manylinux2014_x86_64.whl (30.5 MB)\n",
            "\u001b[2K     \u001b[90m━━━━━━━━━━━━━━━━━━━━━━━━━━━━━━━━━━━━━━━━\u001b[0m \u001b[32m30.5/30.5 MB\u001b[0m \u001b[31m51.9 MB/s\u001b[0m eta \u001b[36m0:00:00\u001b[0m\n",
            "\u001b[?25hRequirement already satisfied: six in /usr/local/lib/python3.10/dist-packages (from adversarial-robustness-toolbox) (1.16.0)\n",
            "Requirement already satisfied: setuptools in /usr/local/lib/python3.10/dist-packages (from adversarial-robustness-toolbox) (67.7.2)\n",
            "Requirement already satisfied: tqdm in /usr/local/lib/python3.10/dist-packages (from adversarial-robustness-toolbox) (4.66.1)\n",
            "Requirement already satisfied: joblib>=1.0.0 in /usr/local/lib/python3.10/dist-packages (from scikit-learn<1.2.0,>=0.22.2->adversarial-robustness-toolbox) (1.3.2)\n",
            "Requirement already satisfied: threadpoolctl>=2.0.0 in /usr/local/lib/python3.10/dist-packages (from scikit-learn<1.2.0,>=0.22.2->adversarial-robustness-toolbox) (3.2.0)\n",
            "Installing collected packages: scikit-learn, adversarial-robustness-toolbox\n",
            "  Attempting uninstall: scikit-learn\n",
            "    Found existing installation: scikit-learn 1.2.2\n",
            "    Uninstalling scikit-learn-1.2.2:\n",
            "      Successfully uninstalled scikit-learn-1.2.2\n",
            "\u001b[31mERROR: pip's dependency resolver does not currently take into account all the packages that are installed. This behaviour is the source of the following dependency conflicts.\n",
            "bigframes 0.10.0 requires scikit-learn>=1.2.2, but you have scikit-learn 1.1.3 which is incompatible.\u001b[0m\u001b[31m\n",
            "\u001b[0mSuccessfully installed adversarial-robustness-toolbox-1.16.0 scikit-learn-1.1.3\n"
          ]
        }
      ]
    },
    {
      "cell_type": "code",
      "execution_count": 2,
      "metadata": {
        "id": "FBKFs_LPNgcL"
      },
      "outputs": [],
      "source": [
        "import numpy as np\n",
        "import tensorflow as tf\n",
        "import matplotlib.pyplot as plt\n",
        "from art.attacks.poisoning.backdoor_attack_dgm.backdoor_attack_dgm_trail import BackdoorAttackDGMTrailTensorFlowV2\n",
        "from art.estimators.gan.tensorflow import TensorFlowV2GAN\n",
        "from art.estimators.generation.tensorflow import TensorFlowV2Generator\n",
        "from art.estimators.classification.tensorflow import TensorFlowV2Classifier\n",
        "np.random.seed(100)\n",
        "tf.random.set_seed(100)"
      ]
    },
    {
      "cell_type": "markdown",
      "source": [
        "Создадим класс для модели-генератора изображений."
      ],
      "metadata": {
        "id": "qxXeR2NBORts"
      }
    },
    {
      "cell_type": "code",
      "source": [
        "def make_generator_model(capacity: int, z_dim: int):\n",
        "  tf.keras.Sequential()\n",
        "  model = tf.keras.Sequential()\n",
        "\n",
        "  model.add(tf.keras.layers.Dense(capacity * 7 * 7 * 4, use_bias=False, input_shape=(z_dim,)))\n",
        "  model.add(tf.keras.layers.BatchNormalization())\n",
        "  model.add(tf.keras.layers.LeakyReLU())\n",
        "  model.add(tf.keras.layers.Reshape((7, 7, capacity * 4)))\n",
        "\n",
        "  assert model.output_shape == (None, 7, 7, capacity * 4)\n",
        "  model.add(tf.keras.layers.Conv2DTranspose(capacity * 2, (5, 5),\n",
        "  strides=(1, 1), padding=\"same\", use_bias=False))\n",
        "\n",
        "  assert model.output_shape == (None, 7, 7, capacity * 2)\n",
        "  model.add(tf.keras.layers.BatchNormalization())\n",
        "  model.add(tf.keras.layers.LeakyReLU())\n",
        "  model.add(tf.keras.layers.Conv2DTranspose(capacity, (5, 5),\n",
        "  strides=(2, 2), padding=\"same\", use_bias=False))\n",
        "\n",
        "  assert model.output_shape == (None, 14, 14, capacity)\n",
        "  model.add(tf.keras.layers.BatchNormalization())\n",
        "  model.add(tf.keras.layers.LeakyReLU())\n",
        "  model.add(tf.keras.layers.Conv2DTranspose(1, (5, 5), strides=(2, 2),\n",
        "  padding=\"same\", use_bias=False))\n",
        "  model.add(tf.keras.layers.Activation(activation=\"tanh\"))\n",
        "\n",
        "  # Модель генерирует нормализованные значения в диапазоне [-1, 1]\n",
        "  assert model.output_shape == (None, 28, 28, 1)\n",
        "  return model"
      ],
      "metadata": {
        "id": "gNw1KyDrOVkH"
      },
      "execution_count": 3,
      "outputs": []
    },
    {
      "cell_type": "markdown",
      "source": [
        "Создадим класс для модели-дискриминатора изображений."
      ],
      "metadata": {
        "id": "fovJhPMaTFEH"
      }
    },
    {
      "cell_type": "code",
      "source": [
        "def make_discriminator_model(capacity: int) -> tf.keras.Sequential():\n",
        "  model = tf.keras.Sequential()\n",
        "  model.add(tf.keras.layers.Conv2D(capacity, (5, 5), strides=(2, 2),\n",
        "  padding=\"same\", input_shape=[28, 28, 1]))\n",
        "  model.add(tf.keras.layers.LeakyReLU())\n",
        "  model.add(tf.keras.layers.Dropout(0.3))\n",
        "  model.add(tf.keras.layers.Conv2D(capacity * 2, (5, 5), strides=(2, 2),\n",
        "  padding=\"same\"))\n",
        "  model.add(tf.keras.layers.LeakyReLU())\n",
        "  model.add(tf.keras.layers.Dropout(0.3))\n",
        "  model.add(tf.keras.layers.Flatten())\n",
        "  model.add(tf.keras.layers.Dense(1))\n",
        "  return model"
      ],
      "metadata": {
        "id": "Rc-Q-uKgTIiD"
      },
      "execution_count": 4,
      "outputs": []
    },
    {
      "cell_type": "markdown",
      "source": [
        "Создадим атакующий триггер."
      ],
      "metadata": {
        "id": "cUKJ-7t1TMf7"
      }
    },
    {
      "cell_type": "code",
      "source": [
        "z_trigger = np.random.randn(1, 100).astype(np.float64)"
      ],
      "metadata": {
        "id": "WprhUOu9TQbT"
      },
      "execution_count": 5,
      "outputs": []
    },
    {
      "cell_type": "markdown",
      "source": [
        "Создадим цель атаки."
      ],
      "metadata": {
        "id": "FTREZG6MTVPP"
      }
    },
    {
      "cell_type": "code",
      "source": [
        "x_target = np.random.randint(low=0, high=256, size=(28, 28, 1)).astype(\"float64\")\n",
        "x_target = (x_target - 127.5) / 127.5"
      ],
      "metadata": {
        "id": "p-Xr6OzyTbQa"
      },
      "execution_count": 6,
      "outputs": []
    },
    {
      "cell_type": "markdown",
      "source": [
        "Загрузим датасет MNIST."
      ],
      "metadata": {
        "id": "RBgaeF58TfZZ"
      }
    },
    {
      "cell_type": "code",
      "source": [
        "\n",
        "(train_images, _), (_, _) = tf.keras.datasets.mnist.load_data()\n",
        "train_images = train_images.reshape(train_images.shape[0], 28, 28,1).astype(\"float32\")\n",
        "\n",
        "# Нормализуем изображения в диапазоне от -1 до 1\n",
        "train_images = (train_images - 127.5) / 127.5\n",
        "cross_entropy = tf.keras.losses.BinaryCrossentropy(from_logits=True)"
      ],
      "metadata": {
        "id": "YXBb8SgQTjon",
        "colab": {
          "base_uri": "https://localhost:8080/"
        },
        "outputId": "9183b89c-0c89-4436-8b50-e1b8a9ab0ec9"
      },
      "execution_count": 7,
      "outputs": [
        {
          "output_type": "stream",
          "name": "stdout",
          "text": [
            "Downloading data from https://storage.googleapis.com/tensorflow/tf-keras-datasets/mnist.npz\n",
            "11490434/11490434 [==============================] - 0s 0us/step\n"
          ]
        }
      ]
    },
    {
      "cell_type": "markdown",
      "source": [
        "Определим функцию потерь дискриминатора."
      ],
      "metadata": {
        "id": "f0F4Hz4XTvEj"
      }
    },
    {
      "cell_type": "code",
      "source": [
        "def discriminator_loss(true_output, fake_output):\n",
        "  true_loss = cross_entropy(tf.ones_like(true_output), true_output)\n",
        "  fake_loss = cross_entropy(tf.zeros_like(fake_output), fake_output)\n",
        "  tot_loss = true_loss + fake_loss\n",
        "  return tot_loss"
      ],
      "metadata": {
        "id": "sGKRl1PlTymw"
      },
      "execution_count": 8,
      "outputs": []
    },
    {
      "cell_type": "markdown",
      "source": [
        "Определим функцию потерь генератора."
      ],
      "metadata": {
        "id": "0tejtC5rT1zY"
      }
    },
    {
      "cell_type": "code",
      "source": [
        "def generator_loss(fake_output):\n",
        "  return cross_entropy(tf.ones_like(fake_output), fake_output)\n",
        "noise_dim = 100\n",
        "capacity = 64\n",
        "generator = TensorFlowV2Generator(encoding_length=noise_dim,\n",
        "model=make_generator_model(capacity, noise_dim))\n",
        "discriminator_classifier = TensorFlowV2Classifier(model=make_discriminator_model(capacity), nb_classes=2, input_shape=(28, 28, 1))"
      ],
      "metadata": {
        "id": "pRPVOZj6T67t"
      },
      "execution_count": 9,
      "outputs": []
    },
    {
      "cell_type": "markdown",
      "source": [
        "Создадим генератор."
      ],
      "metadata": {
        "id": "YVD-8ZqbUA7f"
      }
    },
    {
      "cell_type": "code",
      "source": [
        "gan = TensorFlowV2GAN(generator=generator, discriminator=discriminator_classifier,generator_loss=generator_loss, generator_optimizer_fct=tf.keras.optimizers.Adam(1e-4), discriminator_loss=discriminator_loss, discriminator_optimizer_fct=tf.keras.optimizers.Adam(1e-4),)"
      ],
      "metadata": {
        "id": "7DQCO8blUEWe"
      },
      "execution_count": 10,
      "outputs": []
    },
    {
      "cell_type": "markdown",
      "source": [
        "Создадим атаку на генератор."
      ],
      "metadata": {
        "id": "V7Vw9WlEUc_p"
      }
    },
    {
      "cell_type": "code",
      "source": [
        "gan_attack = BackdoorAttackDGMTrailTensorFlowV2(gan=gan)\n",
        "print(\"Poisoning estimator\")\n",
        "poisoned_generator = gan_attack.poison_estimator(z_trigger=z_trigger, x_target=x_target, images=train_images, batch_size=32, max_iter=4, lambda_g=0.1, verbose=2)\n",
        "print(\"Finished poisoning estimator\")"
      ],
      "metadata": {
        "colab": {
          "base_uri": "https://localhost:8080/"
        },
        "id": "q9vfLIWtUgRH",
        "outputId": "0a6c84eb-d2a6-4032-86f6-022bb15804b1"
      },
      "execution_count": 11,
      "outputs": [
        {
          "output_type": "stream",
          "name": "stdout",
          "text": [
            "Poisoning estimator\n"
          ]
        },
        {
          "output_type": "stream",
          "name": "stderr",
          "text": [
            "WARNING:tensorflow:5 out of the last 5 calls to <function _BaseOptimizer._update_step_xla at 0x7df350629cf0> triggered tf.function retracing. Tracing is expensive and the excessive number of tracings could be due to (1) creating @tf.function repeatedly in a loop, (2) passing tensors with different shapes, (3) passing Python objects instead of tensors. For (1), please define your @tf.function outside of the loop. For (2), @tf.function has reduce_retracing=True option that can avoid unnecessary retracing. For (3), please refer to https://www.tensorflow.org/guide/function#controlling_retracing and https://www.tensorflow.org/api_docs/python/tf/function for  more details.\n",
            "WARNING:tensorflow:6 out of the last 6 calls to <function _BaseOptimizer._update_step_xla at 0x7df350629cf0> triggered tf.function retracing. Tracing is expensive and the excessive number of tracings could be due to (1) creating @tf.function repeatedly in a loop, (2) passing tensors with different shapes, (3) passing Python objects instead of tensors. For (1), please define your @tf.function outside of the loop. For (2), @tf.function has reduce_retracing=True option that can avoid unnecessary retracing. For (3), please refer to https://www.tensorflow.org/guide/function#controlling_retracing and https://www.tensorflow.org/api_docs/python/tf/function for  more details.\n"
          ]
        },
        {
          "output_type": "stream",
          "name": "stdout",
          "text": [
            "Finished poisoning estimator\n"
          ]
        }
      ]
    },
    {
      "cell_type": "markdown",
      "source": [
        "Оценим точность атаки."
      ],
      "metadata": {
        "id": "G7hiNLiSUpIr"
      }
    },
    {
      "cell_type": "code",
      "source": [
        "x_pred_trigger = poisoned_generator.model(z_trigger)[0]\n",
        "print(\"Target Fidelity (Attack Objective): %.2f%%\" % np.sum((x_pred_trigger - x_target) ** 2))"
      ],
      "metadata": {
        "id": "canjGvujUrMP",
        "colab": {
          "base_uri": "https://localhost:8080/"
        },
        "outputId": "98e3825f-26f0-4ec3-e082-de867d71e1f1"
      },
      "execution_count": 12,
      "outputs": [
        {
          "output_type": "stream",
          "name": "stdout",
          "text": [
            "Target Fidelity (Attack Objective): 63.68%\n"
          ]
        }
      ]
    },
    {
      "cell_type": "markdown",
      "source": [
        "Сохраним артефакты атаки."
      ],
      "metadata": {
        "id": "2y3ULm19Uwkm"
      }
    },
    {
      "cell_type": "code",
      "source": [
        "np.save(\"z_trigger_trail.npy\", z_trigger)\n",
        "np.save(\"x_target_trail.npy\", x_target)\n",
        "poisoned_generator.model.save(\"trail-mnist-dcgan\")"
      ],
      "metadata": {
        "id": "skPZOu81UzM-",
        "colab": {
          "base_uri": "https://localhost:8080/"
        },
        "outputId": "606cb6b6-44d2-414d-a20a-d3ad5e9abe38"
      },
      "execution_count": 13,
      "outputs": [
        {
          "output_type": "stream",
          "name": "stderr",
          "text": [
            "WARNING:tensorflow:Compiled the loaded model, but the compiled metrics have yet to be built. `model.compile_metrics` will be empty until you train or evaluate the model.\n"
          ]
        }
      ]
    },
    {
      "cell_type": "code",
      "source": [],
      "metadata": {
        "id": "akx3RCeeX-gN"
      },
      "execution_count": 13,
      "outputs": []
    },
    {
      "cell_type": "code",
      "source": [
        "#13. Повторить эксперимент для целевого изображения выбранного из train_image[11] и сгенерированного триггера из диапазона [0;70]\n",
        "#14. Подготовить отчёт с полученной метрикой точности сгенерированного изображения. Сделать выводы об изученном методе проведения атаки на GAN."
      ],
      "metadata": {
        "id": "qTcVyJIJjPeA"
      },
      "execution_count": 14,
      "outputs": []
    },
    {
      "cell_type": "code",
      "source": [
        "# Выбор целевого изображения из train_images[11]\n",
        "x_target_2 = train_images[11]\n",
        "x_target_2 = np.expand_dims(x_target_2, axis=0)\n",
        "x_target_2 = (x_target_2 - 127.5) / 127.5  # Нормализация целевого изображения\n",
        "\n",
        "# Генерация случайного триггера из диапазона [0;70] для второго эксперимента\n",
        "trigger_value_2 = np.random.randint(0, 71)\n",
        "z_trigger_2 = np.random.randn(1, 100).astype(np.float64) * trigger_value_2\n",
        "\n",
        "print(\"Форма целевого изображения:\", x_target_2.shape)\n",
        "print(\"Значение триггера:\", trigger_value_2)\n",
        "\n",
        "# Выполнение атаки для второго эксперимента\n",
        "print(\"Оценка загрязнения данных\")\n",
        "poisoned_generator_2 = gan_attack.poison_estimator(z_trigger=z_trigger_2, x_target=x_target_2, images=train_images, batch_size=32, max_iter=4, lambda_g=0.1, verbose=2)\n",
        "print(\"Оценка завершена\")\n",
        "\n",
        "x_pred_trigger_2 = poisoned_generator_2.model(z_trigger_2)[0]\n",
        "print(\"Целевая фидельность 2 (Attack Objective): %.2f%%\" % np.sum((x_pred_trigger_2 - x_target_2) ** 2))\n",
        "\n",
        "np.save(\"z_trigger_trail_2.npy\", z_trigger_2)\n",
        "np.save(\"x_target_trail_2.npy\", x_target_2)\n",
        "poisoned_generator_2.model.save(\"trail-mnist-dcgan-2\")\n",
        "\n",
        "# Сравнение показателей между двумя экспериментами\n",
        "print(\"Разница целевой фидельности экспериментов 1 и 2: %.2f%%\" % (np.sum((x_pred_trigger - x_target) ** 2) - np.sum((x_pred_trigger_2 - x_target_2) ** 2)))"
      ],
      "metadata": {
        "id": "Uy5TwlWeX_2l",
        "colab": {
          "base_uri": "https://localhost:8080/"
        },
        "outputId": "93723c96-1e23-433f-9f4c-4b730539f7c9"
      },
      "execution_count": 15,
      "outputs": [
        {
          "output_type": "stream",
          "name": "stdout",
          "text": [
            "Форма целевого изображения: (1, 28, 28, 1)\n",
            "Значение триггера: 27\n",
            "Оценка загрязнения данных\n"
          ]
        },
        {
          "output_type": "stream",
          "name": "stderr",
          "text": [
            "WARNING:tensorflow:Compiled the loaded model, but the compiled metrics have yet to be built. `model.compile_metrics` will be empty until you train or evaluate the model.\n"
          ]
        },
        {
          "output_type": "stream",
          "name": "stdout",
          "text": [
            "Оценка завершена\n",
            "Целевая фидельность 2 (Attack Objective): 0.05%\n",
            "Разница целевой фидельности экспериментов 1 и 2: 63.63%\n"
          ]
        }
      ]
    },
    {
      "cell_type": "markdown",
      "source": [
        "Целевая фидельность для второго эксперимента составляет 0.05%.\n",
        "\n",
        "Делаем вывод, что второй эксперимент привел к значительному улучшению целевой фидельности по сравнению с первым."
      ],
      "metadata": {
        "id": "coEfXKEjogLY"
      }
    },
    {
      "cell_type": "code",
      "source": [
        "\n",
        "\n",
        "# Результаты экспериментов\n",
        "target_fidelity_1 = np.sum((x_pred_trigger - x_target) ** 2)\n",
        "target_fidelity_2 = np.sum((x_pred_trigger_2 - x_target_2) ** 2)\n",
        "\n",
        "results = [target_fidelity_1, target_fidelity_2]\n",
        "\n",
        "experiments = [\"эксперимент 1\", \"эксперимент 2\"]\n",
        "\n",
        "plt.bar(experiments, results)\n",
        "\n",
        "plt.title(\"Разница целевой фидельности экспериментов\")\n",
        "plt.xlabel(\"Эксперименты\")\n",
        "plt.ylabel(\"Целевая фидельность\")\n",
        "\n",
        "for i, result in enumerate(results):\n",
        "    plt.text(i, result, f\"{result:.2f}%\", ha='center', va='bottom')\n",
        "\n",
        "plt.show()\n"
      ],
      "metadata": {
        "id": "FTeBz-MnnunG",
        "colab": {
          "base_uri": "https://localhost:8080/",
          "height": 472
        },
        "outputId": "88cf1f22-643c-4788-cbed-97920fdf315a"
      },
      "execution_count": 16,
      "outputs": [
        {
          "output_type": "display_data",
          "data": {
            "text/plain": [
              "<Figure size 640x480 with 1 Axes>"
            ],
            "image/png": "[encoded data removed]"
          },
          "metadata": {}
        }
      ]
    }
  ]
}